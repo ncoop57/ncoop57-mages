{
 "cells": [
  {
   "cell_type": "code",
   "execution_count": null,
   "metadata": {},
   "outputs": [],
   "source": [
    "# default_exp core"
   ]
  },
  {
   "cell_type": "markdown",
   "metadata": {},
   "source": [
    "# Core\n",
    "\n",
    "> All of the core character functionality."
   ]
  },
  {
   "cell_type": "code",
   "execution_count": null,
   "metadata": {},
   "outputs": [],
   "source": [
    "#hide\n",
    "from nbdev.showdoc import *"
   ]
  },
  {
   "cell_type": "code",
   "execution_count": null,
   "metadata": {},
   "outputs": [],
   "source": [
    "# export\n",
    "class Ability:\n",
    "    ability_types = [\"fire\", \"water\"]\n",
    "    \n",
    "    def __init__(self, damage, damage_type):\n",
    "        self.damage = damage\n",
    "        self.damage_type = damage_type\n",
    "    \n",
    "    def __str__(self):\n",
    "        if self.damage_type == \"fire\":\n",
    "            return \"a jet of fire shot towards\"\n",
    "        elif self.damage_type == \"water\":\n",
    "            return \"ice cold water is flung towards\""
   ]
  },
  {
   "cell_type": "code",
   "execution_count": null,
   "metadata": {},
   "outputs": [],
   "source": [
    "# export\n",
    "class Character:\n",
    "    def __init__(self, name, max_health, ability):\n",
    "        self.name = name\n",
    "        self.max_health = max_health\n",
    "        self.current_health = max_health\n",
    "        self.ability = ability\n",
    "        self.level = 1\n",
    "    \n",
    "    def __str__(self):\n",
    "        return f\"\"\"\\\n",
    "        {self.name}'s Current Health: {self.current_health}\n",
    "        {self.name}'s Max Health: {self.max_health}\n",
    "        {self.name}'s Ability Damage: {self.ability.damage}\n",
    "        {self.name}'s Ability Type: {self.ability.damage_type}\n",
    "        \"\"\""
   ]
  },
  {
   "cell_type": "code",
   "execution_count": null,
   "metadata": {},
   "outputs": [],
   "source": [
    "# export\n",
    "class Mage(Character):\n",
    "    \"This is the main class for the player\"\n",
    "    def __init__(self, name, max_health, ability):\n",
    "        super().__init__(name, max_health, ability)\n",
    "    \n",
    "    def attack(self, target):\n",
    "        \"Attack the given enemy\"\n",
    "        print(f\"From {self.name}'s wand, {self.ability} {target.name}.\")\n",
    "        target.current_health -= self.ability.damage\n",
    "    \n",
    "    def level_up(self):\n",
    "        self.level += 1\n",
    "        self.max_health = self.max_health * self.level\n",
    "        self.current_health = self.max_health\n",
    "        self.ability.damage = self.ability.damage * self.level"
   ]
  },
  {
   "cell_type": "code",
   "execution_count": null,
   "metadata": {},
   "outputs": [
    {
     "name": "stdout",
     "output_type": "stream",
     "text": [
      "Natahan's Current Health: 100\n",
      "        Natahan's Max Health: 100\n",
      "        Natahan's Ability Damage: 10\n",
      "        Natahan's Ability Type: water\n",
      "        \n"
     ]
    }
   ],
   "source": [
    "NAME = \"Nathan\"\n",
    "MAX_HEALTH = 100\n",
    "ABILITY = Ability(10, \"water\")\n",
    "\n",
    "mage = Mage(NAME, MAX_HEALTH, ABILITY)\n",
    "print(mage)\n",
    "\n",
    "assert mage.name == NAME\n",
    "assert mage.max_health == MAX_HEALTH\n",
    "assert mage.current_health == MAX_HEALTH\n",
    "assert mage.ability == ABILITY\n",
    "assert mage.level == 1"
   ]
  },
  {
   "cell_type": "code",
   "execution_count": null,
   "metadata": {},
   "outputs": [],
   "source": [
    "MAX_HEALTH = 200\n",
    "ABILITY_DAMAGE = 20\n",
    "\n",
    "mage.level_up()\n",
    "\n",
    "assert mage.max_health == MAX_HEALTH\n",
    "assert mage.current_health == MAX_HEALTH\n",
    "assert mage.ability.damage == ABILITY_DAMAGE\n",
    "assert mage.level == 2"
   ]
  },
  {
   "cell_type": "code",
   "execution_count": null,
   "metadata": {},
   "outputs": [],
   "source": [
    "# export\n",
    "class Demon(Character):\n",
    "    def __init__(self, name, max_health):\n",
    "        super().__init__(name, max_health, Ability(10, \"fire\"))\n",
    "    \n",
    "    def attack(self, target):\n",
    "        print(f\"From {self.name}'s wand, {self.ability} {target.name}.\")\n",
    "        target.current_health -= self.ability.damage"
   ]
  },
  {
   "cell_type": "code",
   "execution_count": null,
   "metadata": {},
   "outputs": [],
   "source": [
    "NAME = \"Nathan\"\n",
    "MAX_HEALTH = 100\n",
    "ABILITY = Ability(10, \"water\")\n",
    "\n",
    "mage = Mage(NAME, MAX_HEALTH, ABILITY)"
   ]
  },
  {
   "cell_type": "code",
   "execution_count": null,
   "metadata": {},
   "outputs": [],
   "source": [
    "NAME = \"Terry\"\n",
    "MAX_HEALTH = 100\n",
    "\n",
    "demon = Demon(NAME, MAX_HEALTH)\n",
    "print(demon)\n",
    "\n",
    "assert demon.name == NAME\n",
    "assert demon.max_health == MAX_HEALTH\n",
    "assert demon.current_health == MAX_HEALTH\n",
    "assert demon.ability.damage == 10\n",
    "assert demon.ability.damage_type == \"fire\""
   ]
  },
  {
   "cell_type": "code",
   "execution_count": null,
   "metadata": {},
   "outputs": [],
   "source": [
    "CURR_HEALTH = 90\n",
    "\n",
    "mage.attack(demon)\n",
    "print(demon)\n",
    "\n",
    "assert demon.max_health == MAX_HEALTH\n",
    "assert demon.current_health == CURR_HEALTH"
   ]
  },
  {
   "cell_type": "code",
   "execution_count": null,
   "metadata": {},
   "outputs": [],
   "source": [
    "demon.attack(mage)\n",
    "print(mage)\n",
    "\n",
    "assert mage.max_health == MAX_HEALTH\n",
    "assert mage.current_health == CURR_HEALTH"
   ]
  },
  {
   "cell_type": "code",
   "execution_count": null,
   "metadata": {},
   "outputs": [
    {
     "name": "stdout",
     "output_type": "stream",
     "text": [
      "Terry's Current Health: 100\n",
      "        Terry's Max Health: 100\n",
      "        Terry's Ability Damage: 10\n",
      "        Terry's Ability Type: fire\n",
      "        \n"
     ]
    }
   ],
   "source": [
    "# collapse\n",
    "demon = Demon(\"Terry\", 100)\n",
    "print(demon)"
   ]
  },
  {
   "cell_type": "code",
   "execution_count": null,
   "metadata": {},
   "outputs": [
    {
     "data": {
      "text/markdown": "<h4 id=\"Mage.attack\" class=\"doc_header\"><code>Mage.attack</code><a href=\"__main__.py#L7\" class=\"source_link\" style=\"float:right\">[source]</a></h4>\n\n> <code>Mage.attack</code>(**`target`**)\n\nAttack the given enemy",
      "text/plain": "<IPython.core.display.Markdown object>"
     },
     "metadata": {
      "transient": {}
     },
     "output_type": "display_data"
    }
   ],
   "source": [
    "show_doc(Mage.attack)"
   ]
  },
  {
   "cell_type": "markdown",
   "metadata": {},
   "source": [
    "I will now demonstrate how to attack a demon!\n",
    "\n",
    "**bolding** *ital*\n",
    "\n",
    "> note: this is a note\n",
    "\n",
    "> warning: this is a warning"
   ]
  },
  {
   "cell_type": "code",
   "execution_count": null,
   "metadata": {},
   "outputs": [
    {
     "name": "stdout",
     "output_type": "stream",
     "text": [
      "From Natahan's wand, ice cold water is flung towards Terry.\n",
      "        Terry's Current Health: 80\n",
      "        Terry's Max Health: 100\n",
      "        Terry's Ability Damage: 10\n",
      "        Terry's Ability Type: fire\n",
      "        \n"
     ]
    }
   ],
   "source": [
    "mage.attack(demon)\n",
    "print(demon)"
   ]
  },
  {
   "cell_type": "code",
   "execution_count": null,
   "metadata": {},
   "outputs": [
    {
     "name": "stdout",
     "output_type": "stream",
     "text": [
      "Converted 00_core.ipynb.\n",
      "Converted 01_game.ipynb.\n",
      "Converted 02_tutorials.overview.ipynb.\n",
      "Converted index.ipynb.\n"
     ]
    }
   ],
   "source": [
    "from nbdev.export import notebook2script; notebook2script()"
   ]
  },
  {
   "cell_type": "code",
   "execution_count": null,
   "metadata": {},
   "outputs": [],
   "source": []
  }
 ],
 "metadata": {
  "kernelspec": {
   "display_name": "Python 3",
   "language": "python",
   "name": "python3"
  }
 },
 "nbformat": 4,
 "nbformat_minor": 2
}
